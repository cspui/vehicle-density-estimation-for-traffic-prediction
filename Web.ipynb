{
  "nbformat": 4,
  "nbformat_minor": 0,
  "metadata": {
    "colab": {
      "name": "Web.ipynb",
      "provenance": [],
      "collapsed_sections": []
    },
    "kernelspec": {
      "display_name": "Python 3",
      "name": "python3"
    },
    "language_info": {
      "name": "python"
    },
    "accelerator": "GPU"
  },
  "cells": [
    {
      "cell_type": "markdown",
      "metadata": {
        "id": "_J_XSqiRqa8O"
      },
      "source": [
        "## How to run in Google Colab:\n",
        "\n",
        "1) Check that you have enabled the GPU \n",
        "\n",
        ">(Runtime -> Change runtime type -> Hardware Accelerator = Gpu )\n",
        "\n",
        "2) Next just run all the lines by either pressing\n",
        "\n",
        ">(Runtime -> Run all)  ***or*** Ctrl + F9\n",
        "\n",
        "3) At the last section of the code click the second link in the output to access the user interface"
      ]
    },
    {
      "cell_type": "markdown",
      "metadata": {
        "id": "_3arcw0ZAdQe"
      },
      "source": [
        "### Setup Yolov4 in VM"
      ]
    },
    {
      "cell_type": "code",
      "metadata": {
        "id": "wqDXqe5Q_87a"
      },
      "source": [
        "# clone yolov4 darknet repo\n",
        "!git clone https://github.com/AlexeyAB/darknet\n",
        "\n",
        "%cd darknet"
      ],
      "execution_count": null,
      "outputs": []
    },
    {
      "cell_type": "code",
      "metadata": {
        "id": "1lwthsVvTqlO"
      },
      "source": [
        "import tensorflow as tf\n",
        "device_name = tf.test.gpu_device_name()\n",
        "\n",
        "# change makefile to enabled GPU and OPENCV if there is a gpu (For CUDA capable GPU only)\n",
        "if device_name == '/device:GPU:0':\n",
        "  !sed -i 's/OPENCV=0/OPENCV=1/' Makefile\n",
        "  !sed -i 's/GPU=0/GPU=1/' Makefile\n",
        "  !sed -i 's/CUDNN=0/CUDNN=1/' Makefile\n",
        "  !sed -i 's/CUDNN_HALF=0/CUDNN_HALF=1/' Makefile\n",
        "\n",
        "# builds darknet so that we can run darknet executable file to run or train object detectors (-j2 for parallel build with 2 threads)\n",
        "!make -j2"
      ],
      "execution_count": null,
      "outputs": []
    },
    {
      "cell_type": "code",
      "metadata": {
        "id": "ECeiNRtEQ_Zh"
      },
      "source": [
        "# display the devices connected to the VM\n",
        "from tensorflow.python.client import device_lib\n",
        "device_lib.list_local_devices()"
      ],
      "execution_count": null,
      "outputs": []
    },
    {
      "cell_type": "markdown",
      "metadata": {
        "id": "vPNjDRfkAPqi"
      },
      "source": [
        "### Mount Google drive\n",
        "\n",
        "Images, dataset and configuration files can be imported or exported between google drive and Google Colab "
      ]
    },
    {
      "cell_type": "code",
      "metadata": {
        "id": "BHofMkT5_8sw"
      },
      "source": [
        "# %cd ..\n",
        "# from google.colab import drive\n",
        "# drive.mount('/content/gdrive')\n",
        "\n",
        "# # create a symbolic link \n",
        "# !ln -s /content/gdrive/My\\ Drive/ /mydrive\n",
        "\n",
        "# # cd back into the darknet folder to run detections\n",
        "# %cd /content/darknet\n"
      ],
      "execution_count": null,
      "outputs": []
    },
    {
      "cell_type": "markdown",
      "metadata": {
        "id": "sUAduXGMGaxK"
      },
      "source": [
        "### Git clone the Prediction Code and other files needed for webpage"
      ]
    },
    {
      "cell_type": "code",
      "metadata": {
        "id": "DZFEbV3JSTeV"
      },
      "source": [
        "# Setup and install github Large File System to get the weights file\n",
        "!curl -s https://packagecloud.io/install/repositories/github/git-lfs/script.deb.sh | sudo bash\n",
        "!sudo apt-get install git-lfs"
      ],
      "execution_count": null,
      "outputs": []
    },
    {
      "cell_type": "code",
      "metadata": {
        "id": "a7uSrHfGSCGd"
      },
      "source": [
        "!git lfs install"
      ],
      "execution_count": null,
      "outputs": []
    },
    {
      "cell_type": "code",
      "metadata": {
        "id": "DwvAgjLhF7X1"
      },
      "source": [
        "%cd ..\n",
        "# no compression\n",
        "!git config --global --add core.compression 0\n",
        "\n",
        "# Import the code and fiels needed from the GitHub into vehicle-density-estimation directory\n",
        "!git clone --depth 2 https://github.com/cspui/vehicle-density-estimation-for-traffic-prediction.git vehicle-density-estimation"
      ],
      "execution_count": null,
      "outputs": []
    },
    {
      "cell_type": "markdown",
      "metadata": {
        "id": "rajL8INmArWf"
      },
      "source": [
        "### Website Code\n",
        "\n"
      ]
    },
    {
      "cell_type": "code",
      "metadata": {
        "id": "GekeS0d89tNG"
      },
      "source": [
        "# To create a URL from VM to public\n",
        "!pip install flask-ngrok\n",
        "\n",
        "# ffmpeg to process videos\n",
        "!git clone --depth 1 https://git.ffmpeg.org/ffmpeg.git ffmpeg\n",
        "\n",
        "# cd back into the darknet folder to run detections \n",
        "%cd /content/darknet  "
      ],
      "execution_count": null,
      "outputs": []
    },
    {
      "cell_type": "code",
      "metadata": {
        "id": "gRcct6yT3dF7"
      },
      "source": [
        "# Import all the needed modules for the webpage\n",
        "from flask_ngrok import run_with_ngrok\n",
        "from flask import Flask, make_response, request, flash, redirect, url_for, send_from_directory, render_template\n",
        "import os\n",
        "import shutil\n",
        "from werkzeug.utils import secure_filename\n",
        "import time\n",
        "import threading\n",
        "\n",
        "# Declare global variables\n",
        "UPLOAD_FOLDER = '/content/upload'\n",
        "IMAGE_EXTENSIONS = {'png', 'jpg', 'jpeg', 'bmp', 'webp', 'tiff'}\n",
        "VIDEO_EXTENSIONS = {'mov', 'mp4', 'avi', 'flv', 'mkv', 'mpg', 'wmv'}\n",
        "CONGESTION_RANGES = [15, 30] # medium, heavy threshold\n",
        "VEHICLE_CONGESTION_VALUE = [1, 2, 0.5] # car, truck, motorcycle\n",
        "\n",
        "#need to change .names position in data \n",
        "DATA_PATH = \"/content/vehicle-density-estimation/obj.data\"\n",
        "CONFIG_PATH = \"/content/vehicle-density-estimation/yolov4-obj.cfg\"\n",
        "!sed -i 's/names = data\\/obj.names/names = \\/content\\/vehicle-density-estimation\\/obj.names/' \"/content/vehicle-density-estimation/obj.data\"\n",
        "SAMPLE_IMAGE_DIR = \"/content/vehicle-density-estimation/sample_image\"\n",
        "SAMPLE_VIDEO_DIR = \"/content/vehicle-density-estimation/sample_video\"\n",
        "\n",
        "# weight to used\n",
        "WEIGHTS_PATH = \"/content/vehicle-density-estimation/vehicle_detection_model.weights\"\n",
        "\n",
        "# Dictionary to keep track of the working queue\n",
        "WORK_QUEUE = {}\n",
        "\n",
        "# Make a folder in the VM to store all the image and videos\n",
        "os.mkdir(UPLOAD_FOLDER)"
      ],
      "execution_count": null,
      "outputs": []
    },
    {
      "cell_type": "code",
      "metadata": {
        "id": "6OwuuXjaXDn4"
      },
      "source": [
        "def validate_require_files():\n",
        "  \"\"\"\n",
        "  This function validate if the required file for running the detection model is in the directory \n",
        "  \n",
        "  \"\"\"\n",
        "  assert os.path.exists(DATA_PATH) , \"Does not contain file in DATA_PATH\"\n",
        "  assert os.path.exists(CONFIG_PATH) , \"Does not contain file in CONFIG_PATH\"\n",
        "  assert os.path.exists(WEIGHTS_PATH) , \"Does not contain file in WEIGHTS_PATH\""
      ],
      "execution_count": null,
      "outputs": []
    },
    {
      "cell_type": "code",
      "metadata": {
        "id": "mT2EqluV6DrY"
      },
      "source": [
        "def allowed_file(filename, extension_list):\n",
        "  \"\"\"\n",
        "  This function checks if the file extension is in the extensions list or not\n",
        "\n",
        "  Args: filename - the filename including extension\n",
        "        extension_list - a list of extension \n",
        "\n",
        "  Return: True if the extension is in the list\n",
        "          False if it is not in the list\n",
        "  \"\"\"\n",
        "  return '.' in filename and filename.rsplit('.', 1)[1].lower() in extension_list"
      ],
      "execution_count": null,
      "outputs": []
    },
    {
      "cell_type": "code",
      "metadata": {
        "id": "s9HAdYaNP8lG"
      },
      "source": [
        "def split_Ext(filename):\n",
        "  \"\"\"\n",
        "  Split between the filename and file extension\n",
        "\n",
        "  Return: a list containing the filename and it's extension\n",
        "  \"\"\"\n",
        "  parts = filename.split('.');\n",
        "  return parts;"
      ],
      "execution_count": null,
      "outputs": []
    },
    {
      "cell_type": "code",
      "metadata": {
        "id": "YoXVxQQN3yq6"
      },
      "source": [
        "def detect_input(filename, isImage = 1):\n",
        "  \"\"\"\n",
        "  This function run the given image or video with the Vehicle Object detection\n",
        "\n",
        "  Args: filename - the filename\n",
        "        isImage - if input is image then =1 else video =0\n",
        "  \"\"\"\n",
        "  # Check if the input Is a image or a video then run the detection accordingly\n",
        "  if isImage == 1:\n",
        "    cmd = f\"./darknet detector test {DATA_PATH} {CONFIG_PATH} {WEIGHTS_PATH} {UPLOAD_FOLDER}/{filename} -thresh 0.3 -dont_show -ext_output > result.txt\"\n",
        "  else:\n",
        "    splited_filename = split_Ext(filename)[0]\n",
        "    cmd = f\"./darknet detector demo {DATA_PATH} {CONFIG_PATH} {WEIGHTS_PATH} {UPLOAD_FOLDER}/{filename} -thresh 0.3 -dont_show -i 0 -out_filename {splited_filename}.avi -ext_output > {splited_filename}.txt\"\n",
        "\n",
        "  print(f\"\\n Running detection with filename: {filename}\\n {cmd}\\n\")\n",
        "\n",
        "  # Exectue the command \n",
        "  exit_code = os.system(cmd)\n",
        "\n",
        "  # Check if there is error in running the detection\n",
        "  if exit_code == 0 or exit_code == \"0\":\n",
        "    print(\"Finish in detection\")\n",
        "    return 0\n",
        "  else:\n",
        "    print(f\"Error in detection, exit with code: {exit_code}\")\n",
        "    return exit_code"
      ],
      "execution_count": null,
      "outputs": []
    },
    {
      "cell_type": "code",
      "metadata": {
        "id": "CLizgr4cEQWr"
      },
      "source": [
        "def readInput(txtFileName):\n",
        "    # Open and read txt file\n",
        "    txtFile = open(txtFileName, 'r')\n",
        "    txt = txtFile.read()\n",
        "    txt = [line for line in txt.splitlines() if line.strip() != \"\"]\n",
        "    # Close file\n",
        "    txtFile.close()\n",
        "\n",
        "    return txt\n",
        "\n",
        "\n",
        "def getOutput(txtFileName):\n",
        "    # Read text from files\n",
        "    txt = readInput(txtFileName) \n",
        "\n",
        "    classes = ['car:', 'truck:', 'motorbike:']\n",
        "    classesCount = [0, 0, 0]\n",
        "    totalFrames = 0\n",
        "\n",
        "    for line in txt:\n",
        "        word = line.split()[0]\n",
        "        if word in classes:\n",
        "            classesCount[classes.index(word)]+=1\n",
        "        elif word == 'cvWriteFrame':\n",
        "            totalFrames+=1\n",
        "\n",
        "    \n",
        "    # Process output\n",
        "    # If video input: Get average number of vehicles per frame\n",
        "    if totalFrames > 0:\n",
        "        classesCount = [vehicle//totalFrames for vehicle in classesCount]\n",
        "\n",
        "    # Sum up congestion value of vehicles detected\n",
        "    congestionVal = 0\n",
        "    for i in range(len(classesCount)):\n",
        "        congestionVal += (classesCount[i]) * VEHICLE_CONGESTION_VALUE[i]\n",
        "\n",
        "    if (congestionVal < CONGESTION_RANGES[0]):\n",
        "        congestionOutput = \"Low Congestion\"\n",
        "    elif (congestionVal < CONGESTION_RANGES[1]):\n",
        "        congestionOutput = \"Medium Congestion\"\n",
        "    else:\n",
        "        congestionOutput = \"High Congestion\"\n",
        "\n",
        "    output = [f'Car: {classesCount[0]}, Truck: {classesCount[1]}, Motorbike: {classesCount[2]}', f'Congestion Value: {congestionVal}', f'{congestionOutput}']\n",
        "\n",
        "    return output"
      ],
      "execution_count": null,
      "outputs": []
    },
    {
      "cell_type": "code",
      "metadata": {
        "id": "6r62GmYEKxtn"
      },
      "source": [
        "def convert_avi_to_mp4(avi_file_path, output_name):\n",
        "    \"\"\"\n",
        "    This function convert avi video file given into mp4 using ffmpeg encoded in h.264\n",
        "\n",
        "    Args: avi_file_path - the avi video file path\n",
        "          output_name - the output name of the mp4 file\n",
        "    \"\"\"\n",
        "    print(\"Converting videos \")\n",
        "    # Re encode the avi video into mp4 video with a super fast compression preset\n",
        "    exit_code = os.system(f\"ffmpeg -i {avi_file_path} -c:v libx264 -profile:v baseline -crf 28 -preset superfast -level:v 4.0 -movflags faststart -strict experimental -f mp4 {output_name}.mp4\")\n",
        "\n",
        "    # Check for error in conversion\n",
        "    if exit_code == 0 or exit_code == \"0\":\n",
        "      print(\"Finish in conversion\")\n",
        "      return 0\n",
        "    else:\n",
        "      print(f\"Error in conversion, exit with code: {exit_code}\")\n",
        "      return exit_code"
      ],
      "execution_count": null,
      "outputs": []
    },
    {
      "cell_type": "code",
      "metadata": {
        "id": "EpRRb3c8Qrm0"
      },
      "source": [
        "# Run the flask app\n",
        "app = Flask(__name__, template_folder='/content/vehicle-density-estimation/templates')\n",
        "app.config['UPLOAD_FOLDER'] = UPLOAD_FOLDER\n",
        "run_with_ngrok(app)\n",
        "\n",
        "# Generate random session cookie key\n",
        "app.secret_key = os.urandom(16);\n",
        "\n",
        "# No caching at all for API endpoints.\n",
        "@app.after_request\n",
        "def add_header(response):\n",
        "    response.headers['Cache-Control'] = 'no-store, no-cache, must-revalidate, post-check=0, pre-check=0, max-age=0'\n",
        "    response.headers['Pragma'] = 'no-cache'\n",
        "    response.headers['Expires'] = '-1'\n",
        "    return response"
      ],
      "execution_count": null,
      "outputs": []
    },
    {
      "cell_type": "code",
      "metadata": {
        "id": "svHssUC_-BXO"
      },
      "source": [
        "# Main page routing\n",
        "@app.route('/')\n",
        "def main():\n",
        "  return render_template(\"index.html\")"
      ],
      "execution_count": null,
      "outputs": []
    },
    {
      "cell_type": "code",
      "metadata": {
        "id": "Mp2WL2zeb-3b"
      },
      "source": [
        "def process_image(filename):\n",
        "  start_func = time.time()\n",
        "\n",
        "  # Start detection\n",
        "  start = time.time()\n",
        "  exit = detect_input(filename, 1)\n",
        "  end = time.time()\n",
        "\n",
        "  # Checks for error in detection\n",
        "  if exit == 0:\n",
        "    WORK_QUEUE[filename]['status'].append(f'Finished detecting vehicle in {end-start} seconds')\n",
        "  else:\n",
        "    WORK_QUEUE[filename]['status'].append(f'Error in detecting vehicle, exit with code: {exit}')\n",
        "    return\n",
        "\n",
        "  # rename the output file\n",
        "  newFilename = split_Ext(filename)[0] + \".jpg\"\n",
        "  \n",
        "  # replace the original input image\n",
        "  os.replace(\"/content/darknet/predictions.jpg\", os.path.join(app.config['UPLOAD_FOLDER'], newFilename))\n",
        "\n",
        "  # Image density estimation\n",
        "  WORK_QUEUE[filename]['status'].append('Estimating traffic density')\n",
        "  result = getOutput(\"/content/darknet/result.txt\")\n",
        "\n",
        "  # Calculate total time taken for processing\n",
        "  end_func = time.time()\n",
        "  WORK_QUEUE[filename]['status'].append(f'Finish in {end_func - start_func} seconds')\n",
        "\n",
        "  WORK_QUEUE[filename]['finish'] = 1\n",
        "  WORK_QUEUE[filename]['return'] = f\"<img src='/download/{newFilename}' > <p>{result[0]}</p> <p>{result[1]}</p> <p>{result[2]}</p>\"\n",
        "\n",
        "  print(result)\n",
        "\n",
        "  return "
      ],
      "execution_count": null,
      "outputs": []
    },
    {
      "cell_type": "code",
      "metadata": {
        "id": "zYHb42t6cpDY"
      },
      "source": [
        "def process_video(filename):\n",
        "  start_func = time.time()\n",
        "\n",
        "  # Start detection\n",
        "  start = time.time()\n",
        "  exit = detect_input(filename, 0)\n",
        "  end = time.time()\n",
        "\n",
        "  # Checks for error in detection\n",
        "  if exit == 0:\n",
        "    WORK_QUEUE[filename]['status'].append(f'Finished detecting vehicle in {end-start} seconds')\n",
        "  else:\n",
        "    WORK_QUEUE[filename]['status'].append(f'Error in detecting vehicle, exit with code: {exit}')\n",
        "    return\n",
        "\n",
        "  # rename the output file\n",
        "  splited_filename = split_Ext(filename)[0]\n",
        "  newFilename = splited_filename + \".mp4\"\n",
        "\n",
        "  WORK_QUEUE[filename]['status'].append('Converting results video')\n",
        "  \n",
        "  # remove original video \n",
        "  os.system(f\"rm /content/upload/{filename}\")\n",
        "\n",
        "  # converting the output video to mp4 with h264 encoding\n",
        "  start = time.time()\n",
        "  convert_avi_to_mp4(f\"/content/darknet/{splited_filename}.avi\", f\"/content/upload/{splited_filename}\")\n",
        "  end = time.time()\n",
        "  WORK_QUEUE[filename]['status'].append(f'Finish converting results video in {end - start} seconds')\n",
        "  \n",
        "  # Video density estimation\n",
        "  WORK_QUEUE[filename]['status'].append('Estimating traffic density')\n",
        "  result = getOutput(f\"/content/darknet/{splited_filename}.txt\")\n",
        "  \n",
        "  # Calculate total time taken for processing\n",
        "  end_func = time.time()\n",
        "  WORK_QUEUE[filename]['status'].append(f'Finish in {end_func - start_func} seconds')\n",
        "\n",
        "  WORK_QUEUE[filename]['finish'] = 1\n",
        "  WORK_QUEUE[filename]['return'] = f\"<video id='video_output' controls><source src='/download/{newFilename}' type='video/mp4'></source> Your browser does not support the video tag. </video> <p>{result[0]}</p> <p>{result[1]}</p> <p>{result[2]}</p>\"\n",
        "\n",
        "  # Clean up the files\n",
        "  os.system(f\"rm /content/darknet/{splited_filename}.txt\")\n",
        "  os.system(f\"rm /content/darknet/{splited_filename}.avi\")\n",
        "\n",
        "  print(result)\n",
        "\n",
        "  return "
      ],
      "execution_count": null,
      "outputs": []
    },
    {
      "cell_type": "code",
      "metadata": {
        "id": "aEKRQGVGiYC1"
      },
      "source": [
        "@app.route('/process/', methods = [\"POST\"])\n",
        "def process():\n",
        "  # Change the requested parameters to dictionary\n",
        "  print(request.files)\n",
        "  data = request.files.to_dict()\n",
        "  print(data)\n",
        "\n",
        "  # Check for the input type\n",
        "  if (\"image\" in data):\n",
        "    print(\"image\",data[\"image\"])\n",
        "    file = data['image'] \n",
        "  elif (\"video\" in data):\n",
        "    print(\"video\",data['video'])\n",
        "    file = data['video'] \n",
        "  else:\n",
        "    return \"<span> Error: No file part </span>\"\n",
        "  \n",
        "  # if user does not select any file\n",
        "  if file.filename == '':\n",
        "    print('No selected file')\n",
        "    return \"<span> Error: No selected file </span>\"\n",
        "\n",
        "  image = allowed_file(file.filename, IMAGE_EXTENSIONS)\n",
        "  video = allowed_file(file.filename, VIDEO_EXTENSIONS)\n",
        "\n",
        "  if image or video:\n",
        "\n",
        "    filename = secure_filename(file.filename)\n",
        "    file.save(os.path.join(app.config['UPLOAD_FOLDER'], filename))\n",
        "\n",
        "    WORK_QUEUE[filename] = {\n",
        "        'finish': 0,\n",
        "        'status': ['Uploaded the file to the server', 'Detecting vehicle'],\n",
        "        'return': ''\n",
        "    }\n",
        "\n",
        "    # run the vehicle object detector\n",
        "    if image:\n",
        "      process_image(filename)\n",
        "      \n",
        "    elif video:\n",
        "      thread = threading.Thread(target=process_video, args=(filename,), daemon=True)\n",
        "      thread.start()\n",
        "\n",
        "    return WORK_QUEUE[filename] \n",
        "  else:\n",
        "    return \"<span> Error: Not allowed file extension </span>\""
      ],
      "execution_count": null,
      "outputs": []
    },
    {
      "cell_type": "code",
      "metadata": {
        "id": "OIsvyBY16O99"
      },
      "source": [
        "@app.route('/process_sample/', methods = [\"POST\"])\n",
        "def process_sample():\n",
        "  # Change the requested parameters to dictionary\n",
        "  data = request.form.to_dict()\n",
        "  print(data)\n",
        "\n",
        "  image = False\n",
        "  video = False\n",
        "\n",
        "  # Check for the input type\n",
        "  if (\"image\" in data):\n",
        "    print(\"image\",data[\"image\"])\n",
        "    filename = data['image'] \n",
        "    sample_folder = SAMPLE_IMAGE_DIR\n",
        "    ext = \".jpg\"\n",
        "    image = True\n",
        "  elif (\"video\" in data):\n",
        "    print(\"video\",data['video'])\n",
        "    filename = data['video'] \n",
        "    sample_folder = SAMPLE_VIDEO_DIR\n",
        "    ext = \".mp4\"\n",
        "    video = True\n",
        "  else:\n",
        "    return \"<span> Error: No file part </span>\"\n",
        "\n",
        "  # copy the sample file to output area\n",
        "  sample_name = data['sample_name']\n",
        "  sample_file = os.path.join(sample_folder, sample_name) + ext\n",
        "  os.system(f\"cp {sample_file} {os.path.join(app.config['UPLOAD_FOLDER'], filename)}\")\n",
        "\n",
        "  WORK_QUEUE[filename] = {\n",
        "      'finish': 0,\n",
        "      'status': ['Uploaded request to the server', 'Detecting vehicle'],\n",
        "      'return': ''\n",
        "  }\n",
        "\n",
        "  # run the vehicle object detector\n",
        "  if image:\n",
        "    process_image(filename)\n",
        "    \n",
        "  elif video:\n",
        "    thread = threading.Thread(target=process_video, args=(filename,), daemon=True)\n",
        "    thread.start()\n",
        "\n",
        "  return WORK_QUEUE[filename] "
      ],
      "execution_count": null,
      "outputs": []
    },
    {
      "cell_type": "code",
      "metadata": {
        "id": "xoz8BfKEiFzh"
      },
      "source": [
        "@app.route('/update/<filename>')\n",
        "def update(filename):\n",
        "  return WORK_QUEUE[filename]"
      ],
      "execution_count": null,
      "outputs": []
    },
    {
      "cell_type": "code",
      "metadata": {
        "id": "xlY_N1ICh-zP"
      },
      "source": [
        "@app.route('/download/<filename>')\n",
        "def download(filename):\n",
        "  return send_from_directory(app.config['UPLOAD_FOLDER'], filename, cache_timeout=0)"
      ],
      "execution_count": null,
      "outputs": []
    },
    {
      "cell_type": "code",
      "metadata": {
        "id": "0Z5eg4NmBsXT"
      },
      "source": [
        "@app.route('/sample_image/<filename>')\n",
        "def download_sample_image(filename):\n",
        "  return send_from_directory(SAMPLE_IMAGE_DIR, filename + \".jpg\", cache_timeout=0)\n",
        "\n",
        "@app.route('/sample_video/<filename>')\n",
        "def download_sample_video(filename):\n",
        "  return send_from_directory(SAMPLE_VIDEO_DIR, filename + \".mp4\", cache_timeout=0)"
      ],
      "execution_count": null,
      "outputs": []
    },
    {
      "cell_type": "markdown",
      "metadata": {
        "id": "XXoRcUD3sStt"
      },
      "source": [
        "### Backend terminal"
      ]
    },
    {
      "cell_type": "code",
      "metadata": {
        "id": "Ui8l-_qfQzlP"
      },
      "source": [
        "# Start the website\n",
        "app.run()"
      ],
      "execution_count": null,
      "outputs": []
    }
  ]
}