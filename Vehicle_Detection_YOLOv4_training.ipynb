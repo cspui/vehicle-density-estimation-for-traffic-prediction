{
  "cells": [
    {
      "cell_type": "markdown",
      "metadata": {
        "id": "e_pMQhJ8iaCz"
      },
      "source": [
        "# Train YOLOv4 for vehicle detection\n",
        "\n",
        "Make sure to have GPU turned on in **EDIT > NOTEBOOK SETTING > NONE to GPU**\n",
        "\n",
        "The YOLOv4 can be run using the following command\n",
        "```bash\n",
        "!./darknet detector test <path to .data file> <path to config> <path to weights> <path to image>\n",
        "```\n",
        "\n",
        "To show the image:\n",
        "```bash\n",
        "imShow('predictions.jpg')\n",
        "```\n",
        "\n",
        "\n",
        "\n"
      ]
    },
    {
      "cell_type": "code",
      "execution_count": null,
      "metadata": {
        "id": "r-uoTXKoEUQr"
      },
      "outputs": [],
      "source": [
        "# This function display the image into console with given path \n",
        "def imShow(path):\n",
        "  import cv2\n",
        "  import matplotlib.pyplot as plt\n",
        "  %matplotlib inline\n",
        "\n",
        "  image = cv2.imread(path)\n",
        "  height, width = image.shape[:2]\n",
        "  resized_image = cv2.resize(image,(3*width, 3*height), interpolation = cv2.INTER_CUBIC)\n",
        "\n",
        "  fig = plt.gcf()\n",
        "  fig.set_size_inches(18, 10)\n",
        "  plt.axis(\"off\")\n",
        "  plt.imshow(cv2.cvtColor(resized_image, cv2.COLOR_BGR2RGB))\n",
        "  plt.show()\n"
      ]
    },
    {
      "cell_type": "markdown",
      "metadata": {
        "id": "2m7sloWQ454Y"
      },
      "source": [
        "### Command line flags"
      ]
    },
    {
      "cell_type": "markdown",
      "metadata": {
        "id": "t4DnjhIDE6SD"
      },
      "source": [
        "**More commands in** https://github.com/AlexeyAB/darknet#how-to-use-on-the-command-line"
      ]
    },
    {
      "cell_type": "markdown",
      "metadata": {
        "id": "hmkD4Dz64LGA"
      },
      "source": [
        "Threshold Flag (Confidence level)\n",
        "```\n",
        "-thresh 0.2\n",
        "```\n",
        "\n",
        "the number 0.2 means any detected object above 20% percentage will be shown and consider as a result\n"
      ]
    },
    {
      "cell_type": "markdown",
      "metadata": {
        "id": "FoDn2BsH47Yw"
      },
      "source": [
        "Output Bounding Box Coordinate (output coord inside runtime code)\n",
        "\n",
        "```Bash\n",
        "-ext_output\n",
        "```\n",
        "You can output bounding box coordinates for each detection with the flag '-ext_output'. This external outputs flag will give you a few extra details about each detection within an image.\n"
      ]
    },
    {
      "cell_type": "markdown",
      "metadata": {
        "id": "SNnEHIOx5PUE"
      },
      "source": [
        "Don't Show Image\n",
        "\n",
        "```Bash\n",
        "-dont_show\n",
        "```\n",
        "\n",
        "The flag '-dont_show' will not output the image after running darknet. This doesn't really affect anything when running in Colab as the image is unable to output properly straight from darknet anyways. However, by adding the -dont_show flag you will get rid of the following warning from showing.\n",
        "\n",
        "*This is an important flag to have when running darknet with YOLOv4 on video as it will suppress having the video shown.*"
      ]
    },
    {
      "cell_type": "markdown",
      "metadata": {
        "id": "9WeaoppBsyA_"
      },
      "source": [
        "### Setup VM"
      ]
    },
    {
      "cell_type": "code",
      "execution_count": null,
      "metadata": {
        "colab": {
          "base_uri": "https://localhost:8080/"
        },
        "id": "RDC7n4fahIa0",
        "outputId": "13fbf13e-b5fa-41f7-c41e-733468e62469"
      },
      "outputs": [],
      "source": [
        "# clone AlexeyAB's darknet repo\n",
        "!git clone https://github.com/AlexeyAB/darknet\n",
        "\n",
        "# change makefile to enabled GPU and OPENCV \n",
        "%cd darknet\n",
        "!sed -i 's/OPENCV=0/OPENCV=1/' Makefile\n",
        "!sed -i 's/GPU=0/GPU=1/' Makefile\n",
        "!sed -i 's/CUDNN=0/CUDNN=1/' Makefile\n",
        "!sed -i 's/CUDNN_HALF=0/CUDNN_HALF=1/' Makefile\n",
        "\n",
        "# make darknet (builds darknet so that we can run darknet executable file to run or train object detectors)\n",
        "!make\n",
        "\n",
        "# Download YOLOv4 pre-trained weight\n",
        "#!wget https://github.com/AlexeyAB/darknet/releases/download/darknet_yolo_v3_optimal/yolov4.weights"
      ]
    },
    {
      "cell_type": "markdown",
      "metadata": {
        "id": "a0vgm3ndtYZ9"
      },
      "source": [
        "### Mount Google drive\n",
        "\n",
        "Images, dataset and configuration files can be imported or exported between google drive and Google Colab \n"
      ]
    },
    {
      "cell_type": "code",
      "execution_count": null,
      "metadata": {
        "colab": {
          "base_uri": "https://localhost:8080/"
        },
        "id": "mJY1f8sftz3n",
        "outputId": "d53c4ad9-400b-4427-a26d-dc0bcea05b6b"
      },
      "outputs": [],
      "source": [
        "%cd ..\n",
        "from google.colab import drive\n",
        "drive.mount('/content/gdrive')\n",
        "\n",
        "# create a symbolic link \n",
        "!ln -s /content/gdrive/My\\ Drive/ /mydrive\n",
        "\n",
        "# cd back into the darknet folder to run detections\n",
        "%cd /content/darknet"
      ]
    },
    {
      "cell_type": "markdown",
      "metadata": {
        "id": "ZgBaDdW8vM7M"
      },
      "source": [
        "\n",
        "**NOTE:** We are creating a symbolic link between '/content/gdrive/My\\ Drive/' and '/mydrive.\n",
        "\n",
        "It is a shortcut for '/mydrive' to map to the contents within the folder '/content/gdrive/My\\ Drive/'.\n",
        "\n",
        "The reason for this is that sometime having the space in 'My Drive' folder path can cause issues when running certain commands. This symbolic link will stop this from happening!\n",
        "\n"
      ]
    },
    {
      "cell_type": "markdown",
      "metadata": {
        "id": "M-gmk0uLwbCq"
      },
      "source": [
        "# **Setup files for training YOLOv4 Object Detector!**\n",
        "\n",
        "In order to train the YOLOv4 detector we will need the following:\n",
        "\n",
        "*   Labeled Custom Dataset\n",
        "*   Custom .cfg file\n",
        "*   obj.data and obj.names files\n",
        "*   train.txt file (test.txt is optional here as well)"
      ]
    },
    {
      "cell_type": "markdown",
      "metadata": {
        "id": "bwkxNEAIlwUa"
      },
      "source": [
        "## Dataset"
      ]
    },
    {
      "cell_type": "code",
      "execution_count": null,
      "metadata": {
        "id": "cKwixngMxKFh"
      },
      "outputs": [],
      "source": [
        "# copy over both datasets into the root directory of the Colab VM (comment out test.zip if you are not using a validation dataset)\n",
        "#!cp /mydrive/yolov4/obj.zip ../\n",
        "#!cp /mydrive/yolov4/test.zip ../\n",
        "\n",
        "# Import the datasets from the google drive into the root directory of Colab VM \n",
        "!cp /mydrive/'FIT 3161 Vehicle Density Estimation For Traffic Prediction'/'Traffic images'/'wookr'/obj.zip ../\n",
        "!cp /mydrive/'FIT 3161 Vehicle Density Estimation For Traffic Prediction'/'Traffic images'/'wookr'/test.zip ../"
      ]
    },
    {
      "cell_type": "code",
      "execution_count": null,
      "metadata": {
        "colab": {
          "base_uri": "https://localhost:8080/"
        },
        "id": "ZCawd1m5xM9f",
        "outputId": "69410758-fa84-4d9d-f958-f54af9ee7c4f"
      },
      "outputs": [],
      "source": [
        "# unzip the datasets and their contents so that they are now in /darknet/data/ folder\n",
        "#!unzip ../obj.zip -d data/\n",
        "#!unzip ../test.zip -d data/\n",
        "\n",
        "# Unzip the dataset and put the content into /darknet/data/ folder\n",
        "!unzip ../obj.zip -d data/\n",
        "!unzip ../test.zip -d data/"
      ]
    },
    {
      "cell_type": "markdown",
      "metadata": {
        "id": "i6ewBrAgxU4W"
      },
      "source": [
        "## Config file\n",
        "\n",
        "**Now edit the .cfg ,Open it up in a code or text editor to do so.**\n",
        "\n",
        "*If you downloaded cfg to google drive you can use the built in  **Text Editor** by going to your google drive and double clicking on yolov4-obj.cfg and then clicking on the **Open with** drop down and selectin **Text Editor**.*\n",
        "\n",
        "**How to Configure Your Variables:**\n",
        "\n",
        "batch = 32\n",
        "\n",
        "subdivisions = 16 **(If run into any issues then 32)**\n",
        "\n",
        "width = 416\n",
        "\n",
        "height = 416\n",
        "**(these can be any multiple of 32, 416 is standard, you can sometimes improve results by making value larger like 608 but will slow down training)**\n",
        "\n",
        "max_batches = (# of classes) * 2000\n",
        "**(Mininum 6000 so if you are training for 1, 2, or 3 classes it will be 6000)**\n",
        "\n",
        "steps = (80% of max_batches), (90% of max_batches)\n",
        "**(so if your max_batches = 10000, then steps = 8000, 9000)**\n",
        "\n",
        "filters = (# of classes + 5) * 3\n",
        "\n",
        "\n",
        "*Optional: If you run into memory issues or find the training taking a super long time. In each of the three yolo layers in the cfg, change one line from random = 1 to random = 0 to speed up training but slightly reduce accuracy of model. Will also help save memory if you run into any memory issues.*\n"
      ]
    },
    {
      "cell_type": "code",
      "execution_count": null,
      "metadata": {
        "id": "rSy-O9NLxOwg"
      },
      "outputs": [],
      "source": [
        "# download or REPLACE cfg in google drive and change its name\n",
        "#!cp cfg/yolov4-custom.cfg /mydrive/'FIT 3161 Vehicle Density Estimation For Traffic Prediction'/'Colab Notebooks'/yolov4-obj.cfg"
      ]
    },
    {
      "cell_type": "code",
      "execution_count": null,
      "metadata": {
        "id": "X2sxtrTWxhYW"
      },
      "outputs": [],
      "source": [
        "# upload the custom .cfg back to cloud VM from Google Drive\n",
        "!cp /mydrive/'FIT 3161 Vehicle Density Estimation For Traffic Prediction'/'Colab Notebooks'/yolov4-obj.cfg ./cfg"
      ]
    },
    {
      "cell_type": "markdown",
      "metadata": {
        "id": "9vOZPFNkl7Hz"
      },
      "source": [
        "## .data and .names files"
      ]
    },
    {
      "cell_type": "markdown",
      "metadata": {
        "id": "lyPZXrDBxHBj"
      },
      "source": [
        "### **obj.names** \n",
        "\n",
        "obj.names stores each class name per line in the **same order** as your classes.txt from the dataset generation step.\n",
        "\n",
        "NOTE: You do not want to have spaces in your class name. Use _ to replace spaces\n",
        "\n",
        "### **obj.data**\n",
        "\n",
        "obj.data file is specifies where the path to the data. It includes: (change your number of classes accordingly, as well as your backup location)\n",
        "\n",
        "**classes** = (# of class)\n",
        "\n",
        "**train** = data/train.txt (train.txt path)\n",
        "\n",
        "**valid** = data/test.txt (test.txt path / empty this whole line if no test data)\n",
        "\n",
        "**names** = data/obj.names (obj.names path)\n",
        "\n",
        "**backup** = /mydrive/backup (the backup folder path)\n",
        "\n",
        "\n",
        "*This backup path is where we will save the weights to of our model throughout training. Create a backup folder in your google drive and put its correct path in this file.*"
      ]
    },
    {
      "cell_type": "code",
      "execution_count": null,
      "metadata": {
        "id": "lUYt4DuQxm0Q"
      },
      "outputs": [],
      "source": [
        "# upload the obj.names and obj.data files to cloud VM from Google Drive\n",
        "!cp /mydrive/'FIT 3161 Vehicle Density Estimation For Traffic Prediction'/'Colab Notebooks'/obj.names ./data\n",
        "!cp /mydrive/'FIT 3161 Vehicle Density Estimation For Traffic Prediction'/'Colab Notebooks'/obj.data ./data"
      ]
    },
    {
      "cell_type": "markdown",
      "metadata": {
        "id": "4j6XofKpmHws"
      },
      "source": [
        "## train.txt\n",
        "\n",
        "train.txt and test.txt hold the relative paths to all our training images and valdidation images.\n",
        "\n",
        "We can use scripts from [theAIGuysCode's Github Repo](https://github.com/theAIGuysCode/YOLOv4-Cloud-Tutorial/tree/master/yolov4)\n",
        "\n",
        "Download the two files to your local machine and upload them to your Google Drive so we can run them in the Colab Notebook."
      ]
    },
    {
      "cell_type": "code",
      "execution_count": null,
      "metadata": {
        "id": "q7ljA31VxwzI"
      },
      "outputs": [],
      "source": [
        "# Import the generate_train.py and generate_test.py script to cloud VM from Google Drive and run them\n",
        "\n",
        "!cp /mydrive/'FIT 3161 Vehicle Density Estimation For Traffic Prediction'/'Colab Notebooks'/generate_train.py ./\n",
        "!cp /mydrive/'FIT 3161 Vehicle Density Estimation For Traffic Prediction'/'Colab Notebooks'/generate_test.py ./\n",
        "\n",
        "!python generate_train.py\n",
        "!python generate_test.py"
      ]
    },
    {
      "cell_type": "code",
      "execution_count": null,
      "metadata": {
        "colab": {
          "base_uri": "https://localhost:8080/"
        },
        "id": "9C-2pFRfx3FB",
        "outputId": "dfb9a25a-1ae2-4252-9a82-f5c6a9e64584"
      },
      "outputs": [],
      "source": [
        "# verify that the newly generated train.txt and test.txt can be seen in our darknet/data folder\n",
        "!ls data/"
      ]
    },
    {
      "cell_type": "markdown",
      "metadata": {
        "id": "abbeu0DWzqKR"
      },
      "source": [
        "# Training YOLOv4"
      ]
    },
    {
      "cell_type": "code",
      "execution_count": null,
      "metadata": {
        "colab": {
          "base_uri": "https://localhost:8080/"
        },
        "id": "oQw2HMHdx5cb",
        "outputId": "7c99d645-cebf-4ffb-f544-60e88025cb93"
      },
      "outputs": [],
      "source": [
        "# Download pre-trained weights for the convolutional layers. for faster training\n",
        "!wget https://github.com/AlexeyAB/darknet/releases/download/darknet_yolo_v3_optimal/yolov4.conv.137"
      ]
    },
    {
      "cell_type": "markdown",
      "metadata": {
        "id": "AoVxoi9c1oUs"
      },
      "source": [
        "Run the following command to train. (-dont_show flag stops chart from popping up since Colab Notebook can't open images on the spot, -map flag overlays mean average precision on chart to see how accuracy of your model is, only add map flag if you have a validation dataset)\n",
        "```\n",
        "!./darknet detector train <path to obj.data> <path to custom config> yolov4.conv.137 -dont_show -map\n",
        "```\n",
        "**TIP:** To avoid idle for too long and Google Colab closing the session, open up the inspector view (F12) on your browser.\n",
        "\n",
        "Paste the following code into your console window and hit **Enter**\n",
        "```\n",
        "function ClickConnect(){\n",
        "console.log(\"Working\"); \n",
        "document\n",
        "  .querySelector('#top-toolbar > colab-connect-button')\n",
        "  .shadowRoot.querySelector('#connect')\n",
        "  .click() \n",
        "}\n",
        "setInterval(ClickConnect,60000)\n",
        "```\n"
      ]
    },
    {
      "cell_type": "code",
      "execution_count": null,
      "metadata": {
        "colab": {
          "base_uri": "https://localhost:8080/"
        },
        "id": "rVHjeQMHyjSC",
        "outputId": "b9d8d8e8-74a6-459e-951c-1aca473058cd"
      },
      "outputs": [],
      "source": [
        "# train your custom detector! (uncomment %%capture below if you run into memory issues or your Colab is crashing)\n",
        "# %%capture\n",
        "\n",
        "# training starts from the pre-trained weight\n",
        "# !./darknet detector train data/obj.data cfg/yolov4-obj.cfg yolov4.conv.137 -dont_show -map\n",
        "\n",
        "# kick off training from where it last saved (-map for validation and shows the graphing)\n",
        "!./darknet detector train data/obj.data cfg/yolov4-obj.cfg /mydrive/backup/yolov4-obj_1000.weights -dont_show -map -clear"
      ]
    },
    {
      "cell_type": "code",
      "execution_count": null,
      "metadata": {
        "colab": {
          "base_uri": "https://localhost:8080/",
          "height": 575
        },
        "id": "X1XK87x4yj2o",
        "outputId": "9e8c841f-4262-46cd-ce58-accc1e564178"
      },
      "outputs": [],
      "source": [
        "# show chart.png of how custom object detector did with training (available only if have validation dataset)\n",
        "imShow('chart.png')\n",
        "!cp chart.png /mydrive/backup/train_graph.png"
      ]
    },
    {
      "cell_type": "markdown",
      "metadata": {
        "id": "-1xHnUyazFo-"
      },
      "source": [
        "Checking the Mean Average Precision (mAP) of Your Model\n",
        "If you didn't run the training with the '-map- flag added then you can still find out the mAP of your model after training. Run the following command on any of the saved weights from the training to see the mAP value for that specific weight's file. I would suggest to run it on multiple of the saved weights to compare and find the weights with the highest mAP as that is the most accurate one!\n",
        "\n",
        "NOTE: If you think your final weights file has overfitted then it is important to run these mAP commands to see if one of the previously saved weights is a more accurate model for your classes."
      ]
    },
    {
      "cell_type": "code",
      "execution_count": null,
      "metadata": {
        "id": "RmxVMQEWVZbY"
      },
      "outputs": [],
      "source": [
        "# get the pre-trained weights from yolov4 ?\n",
        "# cfg/coco.data cfg/yolov4.cfg yolov4.weights\n",
        "# !wget https://github.com/AlexeyAB/darknet/releases/download/darknet_yolo_v3_optimal/"
      ]
    },
    {
      "cell_type": "code",
      "execution_count": null,
      "metadata": {
        "colab": {
          "base_uri": "https://localhost:8080/"
        },
        "id": "scnSmf24yx1S",
        "outputId": "a7e93a3d-d69c-4301-90f8-381cc12f3603"
      },
      "outputs": [],
      "source": [
        "# Checking the mAP\n",
        "!./darknet detector map data/obj.data cfg/yolov4-obj.cfg /mydrive/backup/yolov4-obj_last.weights"
      ]
    },
    {
      "cell_type": "markdown",
      "metadata": {
        "id": "ggML2HUZ3vOO"
      },
      "source": [
        "# Done"
      ]
    },
    {
      "cell_type": "code",
      "execution_count": null,
      "metadata": {
        "id": "5CMZTdJDzLxZ"
      },
      "outputs": [],
      "source": [
        "# set cfg to test mode \n",
        "%cd cfg\n",
        "!sed -i 's/batch=32/batch=1/' yolov4-obj.cfg\n",
        "!sed -i 's/subdivisions=16/subdivisions=1/' yolov4-obj.cfg\n",
        "%cd .."
      ]
    },
    {
      "cell_type": "code",
      "execution_count": null,
      "metadata": {
        "id": "B9_AfnM1zNhK"
      },
      "outputs": [],
      "source": [
        "# set cfg to training mode\n",
        "%cd cfg\n",
        "!sed -i 's/batch=1/batch=32/' yolov4-obj.cfg\n",
        "!sed -i 's/subdivisions=1/subdivisions=16/' yolov4-obj.cfg\n",
        "%cd .."
      ]
    },
    {
      "cell_type": "code",
      "execution_count": null,
      "metadata": {
        "id": "h12MlHk-hX4R"
      },
      "outputs": [],
      "source": [
        "# copy test images into VM\n",
        "!cp -r /mydrive/'FIT 3161 Vehicle Density Estimation For Traffic Prediction'/'Traffic images'/test_image ./data\n"
      ]
    },
    {
      "cell_type": "code",
      "execution_count": null,
      "metadata": {
        "id": "64Ma4arMORGj"
      },
      "outputs": [],
      "source": [
        "# change line 4 \"test\" to \"test_image\" and line 7 \"data/test/\" to \"data/test_image\"\n",
        "!python generate_test.py"
      ]
    },
    {
      "cell_type": "code",
      "execution_count": null,
      "metadata": {
        "colab": {
          "base_uri": "https://localhost:8080/"
        },
        "id": "LCIsdft81zRn",
        "outputId": "1fd2ae79-3906-4f0d-d168-4b85740fe864"
      },
      "outputs": [],
      "source": [
        "# Test a folder of images\n",
        "!./darknet detector test data/obj.data cfg/yolov4-obj.cfg /mydrive/backup/yolov4-obj_1000.weights -thresh 0.2 -dont_show -ext_output < data/test.txt > result.txt\n",
        "\n",
        "# Test a folder of videos (Not working)\n",
        "# !./darknet detector demo data/obj.data cfg/yolov4-obj.cfg /mydrive/backup/yolov4-obj_1000.weights /mydrive/'FIT 3161 Vehicle Density Estimation For Traffic Prediction'/'Traffic images'/test_extension_video/video_test.wmv -i 0 -dont_show -out_filename results1wmv.avi\n"
      ]
    },
    {
      "cell_type": "code",
      "execution_count": null,
      "metadata": {
        "colab": {
          "base_uri": "https://localhost:8080/"
        },
        "id": "48MVfmYnaQpI",
        "outputId": "836a9b0d-dccd-48c3-a8d0-6a0a4b08f426"
      },
      "outputs": [],
      "source": [
        "# wookr_yolov4-obj_1000.weights\n",
        "!./darknet detector test data/obj.data cfg/yolov4-obj.cfg /mydrive/backup/yolov4-obj_1000.weights /mydrive/'FIT 3161 Vehicle Density Estimation For Traffic Prediction'/'Traffic images'/test_extension_image/test_extension/test9.tiff -thresh 0.2 -dont_show -ext_output > result.txt\n",
        "# !./darknet detector demo data/obj.data cfg/yolov4-obj.cfg /mydrive/backup/yolov4-obj_1000.weights /mydrive/'FIT 3161 Vehicle Density Estimation For Traffic Prediction'/'Traffic images'/test_extension_video/video_test.wmv -i 0 -dont_show -out_filename results1wmv.avi"
      ]
    },
    {
      "cell_type": "code",
      "execution_count": null,
      "metadata": {
        "id": "_sABwrTQzO1x"
      },
      "outputs": [],
      "source": [
        "# run the custom detector \n",
        "!./darknet detector test data/obj.data cfg/yolov4-obj.cfg /mydrive/backup/yolov4-obj_last.weights /mydrive/'FIT 3161 Vehicle Density Estimation For Traffic Prediction'/'Traffic images'/test3.jpg -thresh 0.2 -dont_show -ext_output > result.txt"
      ]
    },
    {
      "cell_type": "code",
      "execution_count": null,
      "metadata": {
        "id": "a62rk0YeV7zq"
      },
      "outputs": [],
      "source": [
        "!./darknet detector test cfg/coco.data cfg/yolov4.cfg yolov4.weights /mydrive/'FIT 3161 Vehicle Density Estimation For Traffic Prediction'/'Traffic images'/test3.jpg -thresh 0.2 -dont_show -ext_output > result.txt"
      ]
    },
    {
      "cell_type": "code",
      "execution_count": null,
      "metadata": {
        "id": "XGgnCHRD8nFP"
      },
      "outputs": [],
      "source": [
        "# GOOGLE DRIVE Export\n",
        "# cp <copy file> <to path>\n",
        "# !cp predictions.jpg /mydrive/detection1.jpg\n",
        "!cp results1wmv.avi /mydrive/'FIT 3161 Vehicle Density Estimation For Traffic Prediction'/'Traffic images'/results1wmv.avi\n",
        "# !cp result.txt /mydrive/result.txt"
      ]
    }
  ],
  "metadata": {
    "accelerator": "GPU",
    "colab": {
      "collapsed_sections": [],
      "name": "Vehicle Detection YOLOv4 training.ipynb",
      "provenance": []
    },
    "kernelspec": {
      "display_name": "Python 3",
      "name": "python3"
    },
    "language_info": {
      "name": "python"
    }
  },
  "nbformat": 4,
  "nbformat_minor": 0
}
